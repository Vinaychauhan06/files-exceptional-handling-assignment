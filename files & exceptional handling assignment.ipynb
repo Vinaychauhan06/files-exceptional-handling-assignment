{
 "cells": [
  {
   "cell_type": "markdown",
   "id": "79991ccb-822e-4db5-9a40-6ddbafa19170",
   "metadata": {},
   "source": [
    "1. What is the difference between interpreted and compiled languages?"
   ]
  },
  {
   "cell_type": "markdown",
   "id": "80d8faa4-eeb8-4f73-b8f7-0fa6a1537ef7",
   "metadata": {
    "tags": []
   },
   "source": [
    "ans: Compiled language: The source code is translated into machine code (or bytecode) by a compiler before running. The program can then be executed directly by the computer.\n",
    "Interpreted language: The source code is read and executed line by line by an interpreter at runtime."
   ]
  },
  {
   "cell_type": "markdown",
   "id": "c3a873c3-95fc-447e-9049-6ce0c69928b3",
   "metadata": {},
   "source": [
    "2. What is exception handling in Python?"
   ]
  },
  {
   "cell_type": "markdown",
   "id": "1e4eb77f-4a71-469b-925f-700508dff0a2",
   "metadata": {
    "tags": []
   },
   "source": [
    "ans: Exceptional handling is handling the error while running code for maintain the flow of code"
   ]
  },
  {
   "cell_type": "markdown",
   "id": "f63bd8e9-7ae2-4f68-96c2-4e0745fe381a",
   "metadata": {},
   "source": [
    "3. What is the purpose of the finally block in exception handling?"
   ]
  },
  {
   "cell_type": "markdown",
   "id": "46b12dbb-bd60-4495-93ee-2728e294cdfd",
   "metadata": {},
   "source": [
    "ans: the purpose of the finally block in exception handling isrun wheather error or not it aslo used to close file,tell the resoursed etc"
   ]
  },
  {
   "cell_type": "markdown",
   "id": "8a43a9b9-9f93-4ca3-8954-5b6063458890",
   "metadata": {},
   "source": [
    "4. What is logging in Python?"
   ]
  },
  {
   "cell_type": "markdown",
   "id": "07ff190e-145c-40b8-bae8-b2ce772ed5fd",
   "metadata": {
    "tags": []
   },
   "source": [
    "ans:Logging is the process of recording information about a program’s execution, such as events, errors, or system behavior. It is widely used in large production systems and APIs to monitor, debug, and analyze the behavior of the code."
   ]
  },
  {
   "cell_type": "markdown",
   "id": "2c4b8e14-344f-4796-ab5f-de751c5d7d15",
   "metadata": {},
   "source": [
    "5. What is the significance of the __del__ method in Python?"
   ]
  },
  {
   "cell_type": "markdown",
   "id": "83f82174-6e71-4047-9114-02bce8bca397",
   "metadata": {},
   "source": [
    "ans: this method is dunder method used to delted the object info in oop coding."
   ]
  },
  {
   "cell_type": "markdown",
   "id": "84e24b54-e040-4fc1-a3ca-edb4bf7a8470",
   "metadata": {},
   "source": [
    "6. What is the difference between import and from ... import in Python?"
   ]
  },
  {
   "cell_type": "markdown",
   "id": "8b16be61-dcf1-4b47-9a5d-22cab744c341",
   "metadata": {},
   "source": [
    "ans: The difference between import and from import is for imort module and from module i am importion function class from module whole."
   ]
  },
  {
   "cell_type": "markdown",
   "id": "3b6d890b-20e9-4869-8962-74450e92edc3",
   "metadata": {
    "tags": []
   },
   "source": [
    "7. How can you handle multiple exceptions in Python?"
   ]
  },
  {
   "cell_type": "code",
   "execution_count": 8,
   "id": "02b138b7-4a6a-4f07-974c-eda3df6f84bb",
   "metadata": {
    "tags": []
   },
   "outputs": [
    {
     "name": "stdin",
     "output_type": "stream",
     "text": [
      "Please enter a number:  weer\n"
     ]
    },
    {
     "name": "stdout",
     "output_type": "stream",
     "text": [
      "Value is showing an error — please enter a valid number.\n"
     ]
    }
   ],
   "source": [
    "try:\n",
    "    value = int(input(\"Please enter a number: \"))\n",
    "    if value >= 0:\n",
    "        print(\"Positive\")\n",
    "    else:\n",
    "        print(\"Negative\")\n",
    "except ValueError:\n",
    "    print(\"Value is showing an error — please enter a valid number.\")\n",
    "except Exception as e:\n",
    "    print(\"Error is:\", e)\n",
    "\n",
    "    "
   ]
  },
  {
   "cell_type": "markdown",
   "id": "95510c76-b456-4d4c-a974-e0fd6e753497",
   "metadata": {
    "tags": []
   },
   "source": [
    "8. What is the purpose of the with statement when handling files in Python?"
   ]
  },
  {
   "cell_type": "markdown",
   "id": "569edc36-b98a-4bf1-b750-2ffdf2b46ae6",
   "metadata": {
    "tags": []
   },
   "source": [
    "ans: The purpose of the with statement is you don't need to close the file it autmatically close the file."
   ]
  },
  {
   "cell_type": "markdown",
   "id": "335198cd-6b22-4c75-a040-24e1f9f9264c",
   "metadata": {
    "tags": []
   },
   "source": [
    "9. What is the difference between multithreading and multiprocessing?"
   ]
  },
  {
   "cell_type": "markdown",
   "id": "97f5a2b2-e831-492e-95b7-cf7d8af1e8c6",
   "metadata": {
    "tags": []
   },
   "source": [
    "ans: In multithreading,multiple thread run the same process share the same memmory space."
   ]
  },
  {
   "cell_type": "markdown",
   "id": "60e14fce-360d-40e0-a671-8e1a53ece28e",
   "metadata": {},
   "source": [
    "10. What are the advantages of using logging in a program?"
   ]
  },
  {
   "cell_type": "markdown",
   "id": "6b098878-2d22-48ed-8060-b0a45707493f",
   "metadata": {
    "tags": []
   },
   "source": [
    "ans: The advantage of using logging in a program is that it allows us to record the behavior of the code, such as errors, warnings, and informational messages. This helps developers analyze issues and improve the code accordingly."
   ]
  },
  {
   "cell_type": "markdown",
   "id": "f00565b9-f4ef-4526-896e-098d907cc82f",
   "metadata": {
    "tags": []
   },
   "source": [
    "11. What is memory management in Python?"
   ]
  },
  {
   "cell_type": "markdown",
   "id": "350c9b97-e038-4e15-a187-617f2475b045",
   "metadata": {
    "tags": []
   },
   "source": [
    "ans:Memory management in Python means handling memory automatically  Python gives memory when we create objects and clears it when not needed using a garbage collector"
   ]
  },
  {
   "cell_type": "markdown",
   "id": "cdd18fd9-66a6-4cd9-a12e-68b6e512e3ea",
   "metadata": {
    "tags": []
   },
   "source": [
    "12. What are the basic steps involved in exception handling in Python?"
   ]
  },
  {
   "cell_type": "raw",
   "id": "5904554c-aeea-4244-b62a-117583dbca00",
   "metadata": {
    "tags": []
   },
   "source": [
    "ans: the basic steps involved in exception hadling is use sytax->\n",
    "try:\n",
    "    #condition\n",
    "except:\n",
    "    #if error comes handle it here \n",
    "    "
   ]
  },
  {
   "cell_type": "markdown",
   "id": "47e6251e-96c3-4857-a34f-5e125195e72b",
   "metadata": {
    "tags": []
   },
   "source": [
    "13. Why is memory management important in Python0"
   ]
  },
  {
   "cell_type": "markdown",
   "id": "3d0ac548-9f23-444e-a0be-410233128d83",
   "metadata": {
    "tags": []
   },
   "source": [
    "ans: Memory management is important in Python because it helps to use memory efficiently, avoid memory leaks, and keep the program fast and stable."
   ]
  },
  {
   "cell_type": "markdown",
   "id": "9c2c7030-1e01-4fb4-9e0d-faa5cf933f6a",
   "metadata": {
    "tags": []
   },
   "source": [
    "14. What is the role of try and except in exception handling?"
   ]
  },
  {
   "cell_type": "markdown",
   "id": "6a000070-e505-4738-b460-999370a8720e",
   "metadata": {
    "tags": []
   },
   "source": [
    "ans: The role of try and except in exception handling is try is for code exceution and exception is for handling the error if the code show error what to do give the path to code so it maintain the flow of code."
   ]
  },
  {
   "cell_type": "markdown",
   "id": "d5d4c1e5-05d4-47b7-9fa2-0c784169c892",
   "metadata": {
    "tags": []
   },
   "source": [
    "15. How does Python's garbage collection system work?"
   ]
  },
  {
   "cell_type": "markdown",
   "id": "a87241b1-d99f-4fbd-9b85-7a7b064beba8",
   "metadata": {
    "tags": []
   },
   "source": [
    "ans: Garbage collection in Python frees memory by removing unused objects automatically using reference counting and a garbage collector."
   ]
  },
  {
   "cell_type": "markdown",
   "id": "c2b90729-8a43-4e7f-a233-49e7b594274c",
   "metadata": {
    "tags": []
   },
   "source": [
    "16. What is the purpose of the else block in exception handling?"
   ]
  },
  {
   "cell_type": "raw",
   "id": "7ae783e5-0190-47a8-a140-a6ca5f47e608",
   "metadata": {},
   "source": [
    "ans: The else block is you want to run when there is no error\n",
    "try:\n",
    "    x = int(input(\"Enter number: \"))\n",
    "    result = 10 / x\n",
    "except ZeroDivisionError:\n",
    "    print(\"Zero not allowed\")\n",
    "else:\n",
    "    print(\"Result is:\", result)"
   ]
  },
  {
   "cell_type": "markdown",
   "id": "4622ef46-0a8d-403a-9874-9231bc854f06",
   "metadata": {
    "tags": []
   },
   "source": [
    "17. What are the common logging levels in Python?"
   ]
  },
  {
   "cell_type": "markdown",
   "id": "ac0fc9a2-7bb8-426a-88af-64383ec463b7",
   "metadata": {},
   "source": [
    "ans: The common logging levels in python is info is recording program events and format is control how logs are display and debugging is finding and fixing errors and relation is logging help in debugging."
   ]
  },
  {
   "cell_type": "markdown",
   "id": "693c9eb3-e49c-4b48-b412-af6b703b520c",
   "metadata": {},
   "source": [
    "18. What is the difference between os.fork() and multiprocessing in Python?"
   ]
  },
  {
   "cell_type": "markdown",
   "id": "ae2ec4ec-ac37-4232-8596-98ba56a956b8",
   "metadata": {},
   "source": [
    "ans: the is.fork() only work on linux this and multiprocessor can work in both window and linus and multiprocess is processing data in diffrent processer in same time seprate memory in the end os.fork is dupliate the previous process. "
   ]
  },
  {
   "cell_type": "markdown",
   "id": "b9484d30-2081-4f56-9906-62ad79d88f4f",
   "metadata": {
    "tags": []
   },
   "source": [
    "19. What is the importance of closing a file in Python?"
   ]
  },
  {
   "cell_type": "markdown",
   "id": "ea5d8fd2-eb50-4f4b-aada-6d656784a305",
   "metadata": {},
   "source": [
    "ans: Closing a file releases system resources and ensures data is properly saved."
   ]
  },
  {
   "cell_type": "markdown",
   "id": "14b2e0f1-7720-42f9-a9f5-a603b322d2df",
   "metadata": {},
   "source": [
    "20. What is the difference between file.read() and file.readline() in Python?"
   ]
  },
  {
   "cell_type": "markdown",
   "id": "00486b0d-16e7-4b42-b294-ea87229f20ed",
   "metadata": {},
   "source": [
    "ans:The difference between file.read() and file.readline() is that file.read() reads the entire file at once, while file.readline() reads the file one line at a time."
   ]
  },
  {
   "cell_type": "markdown",
   "id": "dfd6a4a9-0b2e-45b6-b7c5-b6ff1bd2e18f",
   "metadata": {
    "tags": []
   },
   "source": [
    "21. What is the logging module in Python used for?"
   ]
  },
  {
   "cell_type": "markdown",
   "id": "6f3364a1-9c95-42e2-a6d3-706d4abbe400",
   "metadata": {
    "tags": []
   },
   "source": [
    "ans: Logging module is used for making track of codes,error so we can resolve issues and check code is running correctly or not."
   ]
  },
  {
   "cell_type": "markdown",
   "id": "fa31e830-647b-44dc-a0c3-1641c0596fad",
   "metadata": {},
   "source": [
    "22. What is the os module in Python used for in file handling?"
   ]
  },
  {
   "cell_type": "markdown",
   "id": "bc008a67-4f84-415d-9cbc-32930f8912bc",
   "metadata": {
    "tags": []
   },
   "source": [
    "ans: The os module in Pyhon used having acsess of operating system and make directory put data in it read it and can do multiple functions in any folder/directory. "
   ]
  },
  {
   "cell_type": "markdown",
   "id": "6107c3bc-9665-48c8-96bc-8a9df5e492e2",
   "metadata": {},
   "source": [
    "23. What are the challenges associated with memory management in Python?"
   ]
  },
  {
   "cell_type": "markdown",
   "id": "6db0deaa-1661-4845-9fed-ae9e84bda385",
   "metadata": {
    "tags": []
   },
   "source": [
    "ans: The main challenges with memory management in Python are:\n",
    "Garbage collection overhead automatic cleanup can slow down performance.\n",
    "Memory leaks – can happen if objects keep references to each other (circular references).\n",
    "High memory usage – Python objects take more space compared to lower-level languages.\n",
    "Manual control is limited  developers can’t directly manage memory like in C or C++."
   ]
  },
  {
   "cell_type": "markdown",
   "id": "324a4afa-2dc0-47f9-aaec-420b00a293d3",
   "metadata": {
    "tags": []
   },
   "source": [
    "24. How do you raise an exception manually in Python?"
   ]
  },
  {
   "cell_type": "code",
   "execution_count": 42,
   "id": "cbee4490-a577-4e7b-9ff9-4a513641bb05",
   "metadata": {
    "tags": []
   },
   "outputs": [
    {
     "name": "stdin",
     "output_type": "stream",
     "text": [
      "Enter your salary:  234\n"
     ]
    },
    {
     "name": "stdout",
     "output_type": "stream",
     "text": [
      "Salary is valid\n"
     ]
    }
   ],
   "source": [
    "class CustomError(Exception):\n",
    "    def __init__(self, msg):\n",
    "        self.msg = msg\n",
    "        super().__init__(msg)\n",
    "\n",
    "def validate_salary(salary):\n",
    "    if salary < 0:\n",
    "        raise CustomError(\"Salary cannot be negative\")\n",
    "    elif salary >= 3000:\n",
    "        raise CustomError(\"Salary is unexpectedly high\")\n",
    "    else:\n",
    "        print(\"Salary is valid\")\n",
    "\n",
    "try:\n",
    "    salary = int(input(\"Enter your salary: \"))\n",
    "    validate_salary(salary)\n",
    "except CustomError as e:\n",
    "    print(e)\n"
   ]
  },
  {
   "cell_type": "markdown",
   "id": "173ff4ec-491e-4809-bb35-05ac3fa37fa1",
   "metadata": {
    "tags": []
   },
   "source": [
    "25. Why is it important to use multithreading in certain applications?"
   ]
  },
  {
   "cell_type": "markdown",
   "id": "9341482b-346b-4f1e-9cff-eee6e3dd27f4",
   "metadata": {
    "tags": []
   },
   "source": [
    "ans: It is important to use multithreading in certain applications because it allows a program to perform multiple tasks at the same time, improving efficiency and responsiveness especially in I/O-bound tasks like file handling, web requests, or user interfaces"
   ]
  },
  {
   "cell_type": "markdown",
   "id": "ce1ae7e9-cc66-4a1c-b6a0-88d4b2d73a2e",
   "metadata": {},
   "source": [
    "### Practical Questions"
   ]
  },
  {
   "cell_type": "markdown",
   "id": "3073193a-f0ac-40c8-9208-5670a7574735",
   "metadata": {},
   "source": [
    "1. How can you open a file for writing in Python and write a string to it?"
   ]
  },
  {
   "cell_type": "code",
   "execution_count": 43,
   "id": "a28df630-ee36-4200-9efd-a6f4f0093028",
   "metadata": {
    "tags": []
   },
   "outputs": [],
   "source": [
    "with open(\"file.txt\",\"w\") as f:\n",
    "    f.write(\"my name is Python\")"
   ]
  },
  {
   "cell_type": "markdown",
   "id": "a3794475-658e-462e-9113-31bcac37fb2b",
   "metadata": {},
   "source": [
    "2. Write a Python program to read the contents of a file and print each line?"
   ]
  },
  {
   "cell_type": "code",
   "execution_count": 46,
   "id": "43dd4f50-e318-4311-9c3e-3e6a1cc1cefa",
   "metadata": {
    "tags": []
   },
   "outputs": [
    {
     "name": "stdout",
     "output_type": "stream",
     "text": [
      "my name is Python\n"
     ]
    }
   ],
   "source": [
    "with open(\"file.txt\",\"r\") as f:\n",
    "    for i in f:\n",
    "        print(i.strip())"
   ]
  },
  {
   "cell_type": "markdown",
   "id": "a1f28abd-af27-4309-9b37-0474fe46fb33",
   "metadata": {},
   "source": [
    "3. How would you handle a case where the file doesn't exist while trying to open it for reading?"
   ]
  },
  {
   "cell_type": "code",
   "execution_count": 47,
   "id": "0cd06896-f501-4f81-a8bf-c4bf56bf4a05",
   "metadata": {
    "tags": []
   },
   "outputs": [
    {
     "name": "stdout",
     "output_type": "stream",
     "text": [
      "my name is Python\n"
     ]
    }
   ],
   "source": [
    "try:\n",
    "    with open(\"file.txt\", \"r\") as f:\n",
    "        data = f.read()\n",
    "        print(data)\n",
    "except FileNotFoundError as e:\n",
    "    print(\" File not found:\", e)\n",
    "except Exception as e:\n",
    "    print(\"Some other error occurred:\", e)\n"
   ]
  },
  {
   "cell_type": "markdown",
   "id": "9bf8d28f-0d9d-4ebb-9d0f-650e403acfe6",
   "metadata": {
    "tags": []
   },
   "source": [
    "4. Write a Python script that reads from one file and writes its content to another file?"
   ]
  },
  {
   "cell_type": "code",
   "execution_count": 51,
   "id": "b3dcd389-c707-437d-be9e-059ba2bfd665",
   "metadata": {
    "tags": []
   },
   "outputs": [
    {
     "name": "stdout",
     "output_type": "stream",
     "text": [
      " File content copied successfully!\n"
     ]
    }
   ],
   "source": [
    "with open(\"file.txt\", \"r\") as f:\n",
    "    data = f.read()     \n",
    "\n",
    "with open(\"file_second.txt\", \"w\") as j:\n",
    "    j.write(data)      \n",
    "\n",
    "print(\" File content copied successfully!\")\n"
   ]
  },
  {
   "cell_type": "markdown",
   "id": "147656f1-addd-4ff3-a125-c1307268a2cf",
   "metadata": {},
   "source": [
    "5. How would you catch and handle division by zero error in Python?"
   ]
  },
  {
   "cell_type": "code",
   "execution_count": 52,
   "id": "697d8a86-4ac7-437c-90a6-8a6c0103d8db",
   "metadata": {
    "tags": []
   },
   "outputs": [
    {
     "name": "stdin",
     "output_type": "stream",
     "text": [
      "Enter numerator:  213\n",
      "Enter denominator:  123\n"
     ]
    },
    {
     "name": "stdout",
     "output_type": "stream",
     "text": [
      "Result: 1.7317073170731707\n"
     ]
    }
   ],
   "source": [
    "try:\n",
    "    num1 = int(input(\"Enter numerator: \"))\n",
    "    num2 = int(input(\"Enter denominator: \"))\n",
    "    result = num1 / num2\n",
    "    print(\"Result:\", result)\n",
    "except ZeroDivisionError:\n",
    "    print(\" Cannot divide by zero!\")\n",
    "except Exception as e:\n",
    "    print(\" Some other error occurred:\", e)\n"
   ]
  },
  {
   "cell_type": "markdown",
   "id": "2604b4b5-31d1-4afa-b8a8-f8e3d8a82614",
   "metadata": {
    "tags": []
   },
   "source": [
    "6. Write a Python program that logs an error message to a log file when a division by zero exception occurs?"
   ]
  },
  {
   "cell_type": "code",
   "execution_count": 4,
   "id": "0555c8a1-44db-4a4b-bb5a-70dc2c6d4729",
   "metadata": {
    "tags": []
   },
   "outputs": [
    {
     "name": "stdin",
     "output_type": "stream",
     "text": [
      "Enter numerator:  0123\n",
      "Enter denominator:  0\n"
     ]
    }
   ],
   "source": [
    "import logging\n",
    "\n",
    "logging.basicConfig(filename=\"file.log\", level=logging.DEBUG,\n",
    "                    format='%(asctime)s - %(levelname)s - %(message)s')\n",
    "\n",
    "try:\n",
    "    num1 = int(input(\"Enter numerator: \"))\n",
    "    num2 = int(input(\"Enter denominator: \"))\n",
    "    result = num1 / num2\n",
    "    logging.info(f\"Result: {result}\")\n",
    "except ZeroDivisionError:\n",
    "    logging.error(\"Cannot divide by zero!\")\n"
   ]
  },
  {
   "cell_type": "markdown",
   "id": "8cbce100-d58e-4062-90e5-9c75a12cfee5",
   "metadata": {},
   "source": [
    "7. How do you log information at different levels (INFO, ERROR, WARNING) in Python using the logging module?"
   ]
  },
  {
   "cell_type": "code",
   "execution_count": 5,
   "id": "8285a472-38e6-4357-89c8-2bdcbc2fbd80",
   "metadata": {
    "tags": []
   },
   "outputs": [],
   "source": [
    "import logging\n",
    "\n",
    "logging.basicConfig(filename=\"file.log\", level=logging.DEBUG,\n",
    "                    format='%(asctime)s - %(levelname)s - %(message)s')\n",
    "logging.debug(\"This is a debug message – useful for developers.\")\n",
    "logging.info(\"This is an info message – things are working fine.\")\n",
    "logging.warning(\"This is a warning message – something might be wrong soon.\")\n",
    "logging.error(\"This is an error message – an operation failed.\")\n",
    "logging.critical(\"This is a critical message – the system may crash.\")"
   ]
  },
  {
   "cell_type": "markdown",
   "id": "11463f38-3528-4542-8469-cc9e76b73875",
   "metadata": {
    "tags": []
   },
   "source": [
    "8. Write a program to handle a file opening error using exception handling?"
   ]
  },
  {
   "cell_type": "code",
   "execution_count": 10,
   "id": "9a26392a-7c13-4deb-9c70-8ca041144689",
   "metadata": {
    "tags": []
   },
   "outputs": [
    {
     "name": "stdout",
     "output_type": "stream",
     "text": [
      "Error: The file you are trying to open does not exist.\n"
     ]
    }
   ],
   "source": [
    "try:\n",
    "    with open(\"file_third.txt\",\"r\") as f:\n",
    "        data=f.read()\n",
    "        print(data)\n",
    "except FileNotFoundError:\n",
    "    print(\"Error: The file you are trying to open does not exist.\")\n",
    "except PermissionError:\n",
    "    print(\"Error: You don't have permission to access this file.\")\n",
    "except Exception as e:\n",
    "    print(f\"An unexpected error occurred: {e}\")"
   ]
  },
  {
   "cell_type": "markdown",
   "id": "1a209ded-c2d9-42ef-a1d1-822e26bf41c9",
   "metadata": {
    "tags": []
   },
   "source": [
    "9. How can you read a file line by line and store its content in a list in Python?"
   ]
  },
  {
   "cell_type": "code",
   "execution_count": 16,
   "id": "a22471b4-31e0-4c91-9c0d-276a7cf5ccc3",
   "metadata": {
    "tags": []
   },
   "outputs": [
    {
     "name": "stdout",
     "output_type": "stream",
     "text": [
      "['m', 'y', ' ', 'n', 'a', 'm', 'e', ' ', 'i', 's', ' ', 'P', 'y', 't', 'h', 'o', 'n']\n"
     ]
    }
   ],
   "source": [
    "with open(\"file.txt\",\"r\") as f:\n",
    "    result=[i for i in f.read().strip()]\n",
    "    print(result)"
   ]
  },
  {
   "cell_type": "markdown",
   "id": "21eead8d-7324-4939-b532-104dcc61063e",
   "metadata": {},
   "source": [
    "10. How can you append data to an existing file in Python?"
   ]
  },
  {
   "cell_type": "code",
   "execution_count": 17,
   "id": "cff250d7-b0e2-4ecb-8421-ab3a5d996dec",
   "metadata": {
    "tags": []
   },
   "outputs": [],
   "source": [
    "with open(\"file.txt\",\"a\") as f:\n",
    "    f.write(\"my name is c++\")"
   ]
  },
  {
   "cell_type": "markdown",
   "id": "af9d9f76-f331-4fbf-898d-40e7dd2f0b73",
   "metadata": {
    "tags": []
   },
   "source": [
    "11. Write a Python program that uses a try-except block to handle an error when attempting to access a dictionary key that doesn't exist?"
   ]
  },
  {
   "cell_type": "code",
   "execution_count": 23,
   "id": "1d876027-157a-452c-ae35-6215b66f3571",
   "metadata": {
    "tags": []
   },
   "outputs": [
    {
     "name": "stdout",
     "output_type": "stream",
     "text": [
      "Error: The key 'grade' does not exist in the dictionary.\n"
     ]
    }
   ],
   "source": [
    "info = {\"name\": \"vinay\", \"course\": \"data science\", \"age\": 24}\n",
    "\n",
    "try:\n",
    "    print(info[\"grade\"])   \n",
    "except KeyError:\n",
    "    print(\"Error: The key 'grade' does not exist in the dictionary.\")\n"
   ]
  },
  {
   "cell_type": "markdown",
   "id": "1de70886-d977-4fe1-8d1b-f394dd58ce2b",
   "metadata": {},
   "source": [
    "12. Write a program that demonstrates using multiple except blocks to handle different types of exceptions?"
   ]
  },
  {
   "cell_type": "code",
   "execution_count": 24,
   "id": "fd479f2c-fa11-48c8-ab95-38a1b6123d50",
   "metadata": {
    "tags": []
   },
   "outputs": [
    {
     "name": "stdout",
     "output_type": "stream",
     "text": [
      "Result: 1.0\n",
      "Error: The key does not exist in the dictionary!\n",
      "Error: Cannot divide by zero!\n",
      "Error: Unsupported data type for division!\n"
     ]
    }
   ],
   "source": [
    "numbers = [10, 0, \"5\"]\n",
    "\n",
    "for i in range(3):\n",
    "    try:\n",
    "        # Attempt to divide 10 by an element in the list\n",
    "        result = 10 / numbers[i]\n",
    "        print(f\"Result: {result}\")\n",
    "        \n",
    "        # Attempt to access a non-existent dictionary key\n",
    "        sample_dict = {\"a\": 1, \"b\": 2}\n",
    "        print(sample_dict[\"c\"])  # 'c' does not exist\n",
    "\n",
    "    except ZeroDivisionError:\n",
    "        print(\"Error: Cannot divide by zero!\")\n",
    "\n",
    "    except TypeError:\n",
    "        print(\"Error: Unsupported data type for division!\")\n",
    "\n",
    "    except KeyError:\n",
    "        print(\"Error: The key does not exist in the dictionary!\")\n",
    "\n",
    "    except Exception as e:  # Catch any other unexpected exceptions\n",
    "        print(f\"An unexpected error occurred: {e}\")\n"
   ]
  },
  {
   "cell_type": "markdown",
   "id": "ee244a99-c8b5-465e-9d02-c47b750b3bbf",
   "metadata": {},
   "source": [
    "13. How would you check if a file exists before attempting to read it in Python?"
   ]
  },
  {
   "cell_type": "code",
   "execution_count": 32,
   "id": "5d6b14da-59ff-40b5-aff8-96bacff3ddf0",
   "metadata": {
    "tags": []
   },
   "outputs": [
    {
     "name": "stdout",
     "output_type": "stream",
     "text": [
      "file not exist\n"
     ]
    }
   ],
   "source": [
    "import os\n",
    "if os.path.exists(\"filet.txt\"):\n",
    "    with open(\"filet.txt\",\"r\") as f:\n",
    "        data=f.read()\n",
    "        print(data)\n",
    "else:\n",
    "    print(\"file not exist\")\n",
    "    "
   ]
  },
  {
   "cell_type": "markdown",
   "id": "152c01d8-0176-4b30-9ec5-564ba6e4110d",
   "metadata": {
    "tags": []
   },
   "source": [
    "14. Write a program that uses the logging modul to log both informational and error messages?"
   ]
  },
  {
   "cell_type": "code",
   "execution_count": 35,
   "id": "f3b565fb-2e32-4d5b-b41b-6bb9a801ea52",
   "metadata": {
    "tags": []
   },
   "outputs": [],
   "source": [
    "import logging\n",
    "\n",
    "logging.basicConfig(\n",
    "    level=logging.INFO,\n",
    "    format='%(levelname)s: %(message)s'\n",
    ")\n",
    "\n",
    "try:\n",
    "    with open(\"file.txt\", \"r\") as f:\n",
    "        data = f.read()\n",
    "        logging.info(f\"File read successfully:\\n{data}\")  # Informational message\n",
    "except FileNotFoundError:\n",
    "    logging.error(\"Error: The file 'file.txt' does not exist.\")  # Error message\n",
    "except Exception as e:\n",
    "    logging.error(f\"An unexpected error occurred: {e}\")  # Other errors\n"
   ]
  },
  {
   "cell_type": "markdown",
   "id": "0ff58f1a-6faf-4274-acc4-149a646e08e9",
   "metadata": {
    "tags": []
   },
   "source": [
    "15. Write a Python program that prints the content of a file and handles the case when the file is empty?"
   ]
  },
  {
   "cell_type": "code",
   "execution_count": 39,
   "id": "1dce0c22-c11a-41a3-ab27-4a9b5e99a0bb",
   "metadata": {
    "tags": []
   },
   "outputs": [],
   "source": [
    "try:\n",
    "    with open(\"file.txt\", \"r\") as f:\n",
    "        data = f.read()\n",
    "except FileNotFoundError:\n",
    "    print(\"Error: The file 'file.txt' does not exist.\")\n",
    "except Exception as e:\n",
    "    print(f\"An unexpected error occurred: {e}\") \n",
    "else:\n",
    "    if data:\n",
    "        print(\"File content:\")\n",
    "        print(data)\n",
    "    else:\n",
    "        print(\"The file is empty.\")"
   ]
  },
  {
   "cell_type": "markdown",
   "id": "ef12217c-179e-429c-959f-94376e754539",
   "metadata": {},
   "source": [
    "16. Demonstrate how to use memory profiling to check the memory usage of a small program?"
   ]
  },
  {
   "cell_type": "code",
   "execution_count": 42,
   "id": "9e3a22f2-5bb7-4b72-af63-1a20a1594136",
   "metadata": {
    "tags": []
   },
   "outputs": [
    {
     "name": "stdout",
     "output_type": "stream",
     "text": [
      "ERROR: Could not find file /var/folders/_x/_89f24qx7r132r9268w_gw0r0000gn/T/ipykernel_62148/1476006291.py\n",
      "List created\n"
     ]
    }
   ],
   "source": [
    "from memory_profiler import profile\n",
    "\n",
    "@profile  \n",
    "def create_list():\n",
    "    my_list = [i for i in range(100000)]\n",
    "    print(\"List created\")\n",
    "    return my_list\n",
    "\n",
    "if __name__ == \"__main__\":\n",
    "    create_list()\n"
   ]
  },
  {
   "cell_type": "markdown",
   "id": "f32e5bec-6d82-4c6b-a040-5ef66c42f6e5",
   "metadata": {},
   "source": [
    "17. Write a Python program to create and write a list of numbers to a file, one number per line?"
   ]
  },
  {
   "cell_type": "code",
   "execution_count": 51,
   "id": "3fc83feb-5251-4c01-8b8f-4b9ed7b963e1",
   "metadata": {
    "tags": []
   },
   "outputs": [],
   "source": [
    "with open(\"num.txt\", \"w\") as f:\n",
    "    for i in range(10):\n",
    "        f.write(str(i) + \"\\n\")  # Convert number to string and add newline\n"
   ]
  },
  {
   "cell_type": "code",
   "execution_count": 52,
   "id": "c30f2e6c-fa8c-43d5-ad4c-4fe16fcf28c5",
   "metadata": {
    "tags": []
   },
   "outputs": [
    {
     "name": "stdout",
     "output_type": "stream",
     "text": [
      "0\n",
      "1\n",
      "2\n",
      "3\n",
      "4\n",
      "5\n",
      "6\n",
      "7\n",
      "8\n",
      "9\n",
      "\n"
     ]
    }
   ],
   "source": [
    "with open(\"num.txt\",\"r\") as f:\n",
    "    print(f.read())"
   ]
  },
  {
   "cell_type": "markdown",
   "id": "3c6cfad4-8217-4338-af87-f1cda330302c",
   "metadata": {
    "tags": []
   },
   "source": [
    "18. How would you implement a basic logging setup that logs to a file with rotation after 1Mb?"
   ]
  },
  {
   "cell_type": "code",
   "execution_count": null,
   "id": "2bdc9296-8365-4ff9-8568-cb02b5e79eae",
   "metadata": {},
   "outputs": [],
   "source": [
    "import logging\n",
    "from logging.handlers import RotatingFileHandler\n",
    "\n",
    "# Create a logger\n",
    "logger = logging.getLogger(\"MyLogger\")\n",
    "logger.setLevel(logging.INFO)  # Set minimum log level\n",
    "\n",
    "# Create a rotating file handler\n",
    "handler = RotatingFileHandler(\n",
    "    \"app.log\",         # Log file name\n",
    "    maxBytes=1_000_000,  # 1 MB\n",
    "    backupCount=5        # Keep up to 5 backup files\n",
    ")\n",
    "\n",
    "# Create a formatter and attach it to the handler\n",
    "formatter = logging.Formatter('%(asctime)s - %(levelname)s - %(message)s')\n",
    "handler.setFormatter(formatter)\n",
    "\n",
    "# Add the handler to the logger\n",
    "logger.addHandler(handler)\n",
    "\n",
    "# Example usage\n",
    "logger.info(\"This is an informational message.\")\n",
    "logger.error(\"This is an error message.\")\n"
   ]
  },
  {
   "cell_type": "markdown",
   "id": "99959ddb-41e0-4550-a617-d1624568805c",
   "metadata": {},
   "source": [
    "19. Write a program that handles both IndexError and KeyError using a try-except block?"
   ]
  },
  {
   "cell_type": "code",
   "execution_count": null,
   "id": "8aca900f-a82a-45b0-89d2-1443d5ed5900",
   "metadata": {},
   "outputs": [],
   "source": [
    "\n",
    "my_list = [10, 20, 30]\n",
    "my_dict = {'a': 1, 'b': 2}\n",
    "\n",
    "try:\n",
    "    print(\"Accessing list element:\", my_list[5])\n",
    "    print(\"Accessing dictionary key:\", my_dict['c'])\n",
    "\n",
    "except IndexError as ie:\n",
    "    print(\"Caught an IndexError:\", ie)\n",
    "\n",
    "except KeyError as ke:\n",
    "    print(\"Caught a KeyError:\", ke)\n",
    "\n",
    "print(\"Program continues after exception handling.\")\n"
   ]
  },
  {
   "cell_type": "markdown",
   "id": "7b8152f1-3776-44da-8f3f-32f7b3314711",
   "metadata": {
    "tags": []
   },
   "source": [
    "20. How would you open a file and read its contents using a context manager in Python?"
   ]
  },
  {
   "cell_type": "code",
   "execution_count": null,
   "id": "a3a08989-1fa8-4dde-a2d9-ad89b1f483c8",
   "metadata": {},
   "outputs": [],
   "source": [
    "file_path = \"example.txt\"\n",
    "\n",
    "with open(file_path, \"r\") as file: \n",
    "    contents = file.read()        \n",
    "    print(contents)"
   ]
  },
  {
   "cell_type": "markdown",
   "id": "f60d1fe8-696b-476d-961f-72f861afb4c8",
   "metadata": {
    "tags": []
   },
   "source": [
    "21. Write a Python program that reads a file and prints the number of occurrences of a specific word?"
   ]
  },
  {
   "cell_type": "code",
   "execution_count": null,
   "id": "ac4eff57-fcf9-4b60-b92b-bdfb2bd63157",
   "metadata": {},
   "outputs": [],
   "source": [
    "file_path = \"example.txt\"\n",
    "word_to_count = \"Python\"\n",
    "count = 0\n",
    "\n",
    "with open(file_path, \"r\") as file:\n",
    "    for line in file:               \n",
    "        words = line.split()       \n",
    "        count += words.count(word_to_count)  \n",
    "\n",
    "print(f\"The word '{word_to_count}' occurred {count} times in the file.\")\n"
   ]
  },
  {
   "cell_type": "markdown",
   "id": "ae4e665e-5cec-4ea3-a360-c91b7a97f397",
   "metadata": {},
   "source": [
    "22. How can you check if a file is empty before attempting to read its contents?"
   ]
  },
  {
   "cell_type": "code",
   "execution_count": 59,
   "id": "0d1e73e9-eecf-4bb1-b1f4-648e0c403e5c",
   "metadata": {
    "tags": []
   },
   "outputs": [
    {
     "name": "stdout",
     "output_type": "stream",
     "text": [
      "Directory does not exist\n"
     ]
    }
   ],
   "source": [
    "import os\n",
    "\n",
    "dir_path = \"my_folder\"\n",
    "\n",
    "if os.path.exists(dir_path) and os.path.isdir(dir_path):\n",
    "    if not os.listdir(dir_path):  # Returns empty list if directory is empty\n",
    "        print(\"Directory is empty\")\n",
    "    else:\n",
    "        print(\"Directory is not empty\")\n",
    "else:\n",
    "    print(\"Directory does not exist\")\n"
   ]
  },
  {
   "cell_type": "markdown",
   "id": "a700eed3-50cd-4c61-875f-d59eb29c851d",
   "metadata": {
    "tags": []
   },
   "source": [
    "23. Write a Python program that writes to a log file when an error occurs during file handling?"
   ]
  },
  {
   "cell_type": "code",
   "execution_count": null,
   "id": "5b8ea495-cad8-48ee-bf2c-23aae20437d4",
   "metadata": {},
   "outputs": [],
   "source": []
  }
 ],
 "metadata": {
  "kernelspec": {
   "display_name": "Python 3 (ipykernel)",
   "language": "python",
   "name": "python3"
  },
  "language_info": {
   "codemirror_mode": {
    "name": "ipython",
    "version": 3
   },
   "file_extension": ".py",
   "mimetype": "text/x-python",
   "name": "python",
   "nbconvert_exporter": "python",
   "pygments_lexer": "ipython3",
   "version": "3.11.5"
  }
 },
 "nbformat": 4,
 "nbformat_minor": 5
}
